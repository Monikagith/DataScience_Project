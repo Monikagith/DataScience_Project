{
 "cells": [
  {
   "cell_type": "markdown",
   "id": "d206e80f",
   "metadata": {},
   "source": [
    "# TITANIC CLASSIFICATION"
   ]
  },
  {
   "cell_type": "markdown",
   "id": "5a55ab95",
   "metadata": {},
   "source": [
    "###### \"Import necessary libraries\""
   ]
  },
  {
   "cell_type": "code",
   "execution_count": 1,
   "id": "33157e1a",
   "metadata": {},
   "outputs": [],
   "source": [
    "import seaborn as sns\n",
    "import pandas as pd\n",
    "import matplotlib.pyplot as plt\n",
    "from sklearn.model_selection import train_test_split\n",
    "from sklearn.ensemble import RandomForestClassifier\n",
    "from sklearn.metrics import accuracy_score, classification_report"
   ]
  },
  {
   "cell_type": "markdown",
   "id": "6aa40d90",
   "metadata": {},
   "source": [
    "###### \"Load the Titanic dataset from Seaborn\""
   ]
  },
  {
   "cell_type": "code",
   "execution_count": 2,
   "id": "548c104d",
   "metadata": {},
   "outputs": [],
   "source": [
    "titanic = sns.load_dataset('titanic')"
   ]
  },
  {
   "cell_type": "markdown",
   "id": "d75b5f22",
   "metadata": {},
   "source": [
    "###### \"Handle missing values\""
   ]
  },
  {
   "cell_type": "code",
   "execution_count": 3,
   "id": "00d0407b",
   "metadata": {},
   "outputs": [],
   "source": [
    "# Fill missing age values with the median age\n",
    "titanic['age'].fillna(titanic['age'].median(), inplace=True)\n",
    "# Fill missing embarked values with the mode (most frequent)\n",
    "titanic['embarked'].fillna(titanic['embarked'].mode()[0], inplace=True)"
   ]
  },
  {
   "cell_type": "markdown",
   "id": "ccec27fb",
   "metadata": {},
   "source": [
    "###### \"Encode categorical variables\""
   ]
  },
  {
   "cell_type": "code",
   "execution_count": 4,
   "id": "7226c63a",
   "metadata": {},
   "outputs": [],
   "source": [
    "# # Convert categorical variables (e.g., 'sex', 'class', 'embarked') into numerical format\n",
    "titanic = pd.get_dummies(titanic, columns=['sex', 'class', 'embarked'], drop_first=True)"
   ]
  },
  {
   "cell_type": "markdown",
   "id": "09c6c7b5",
   "metadata": {},
   "source": [
    "###### \"Select features (X) and target variable (y)\""
   ]
  },
  {
   "cell_type": "code",
   "execution_count": 5,
   "id": "718efd33",
   "metadata": {},
   "outputs": [],
   "source": [
    "#  Define the features (independent variables) and the target variable (dependent variable)\n",
    "X = titanic[['age', 'fare', 'parch', 'sibsp', 'sex_male', 'class_Second', 'class_Third', 'embarked_Q', 'embarked_S']]\n",
    "y = titanic['survived']"
   ]
  },
  {
   "cell_type": "markdown",
   "id": "3e275458",
   "metadata": {},
   "source": [
    "###### \"Split the data into training and testing sets\""
   ]
  },
  {
   "cell_type": "code",
   "execution_count": 6,
   "id": "bb207fc5",
   "metadata": {},
   "outputs": [],
   "source": [
    "#Split the dataset into a training set (80%) and a testing set (20%)\n",
    "X_train, X_test, y_train, y_test = train_test_split(X, y, test_size=0.2, random_state=42)"
   ]
  },
  {
   "cell_type": "markdown",
   "id": "b32b8a4e",
   "metadata": {},
   "source": [
    "###### \"Create and train the Random Forest Classifier\""
   ]
  },
  {
   "cell_type": "code",
   "execution_count": 7,
   "id": "d2691eb3",
   "metadata": {},
   "outputs": [
    {
     "data": {
      "text/html": [
       "<style>#sk-container-id-1 {color: black;background-color: white;}#sk-container-id-1 pre{padding: 0;}#sk-container-id-1 div.sk-toggleable {background-color: white;}#sk-container-id-1 label.sk-toggleable__label {cursor: pointer;display: block;width: 100%;margin-bottom: 0;padding: 0.3em;box-sizing: border-box;text-align: center;}#sk-container-id-1 label.sk-toggleable__label-arrow:before {content: \"▸\";float: left;margin-right: 0.25em;color: #696969;}#sk-container-id-1 label.sk-toggleable__label-arrow:hover:before {color: black;}#sk-container-id-1 div.sk-estimator:hover label.sk-toggleable__label-arrow:before {color: black;}#sk-container-id-1 div.sk-toggleable__content {max-height: 0;max-width: 0;overflow: hidden;text-align: left;background-color: #f0f8ff;}#sk-container-id-1 div.sk-toggleable__content pre {margin: 0.2em;color: black;border-radius: 0.25em;background-color: #f0f8ff;}#sk-container-id-1 input.sk-toggleable__control:checked~div.sk-toggleable__content {max-height: 200px;max-width: 100%;overflow: auto;}#sk-container-id-1 input.sk-toggleable__control:checked~label.sk-toggleable__label-arrow:before {content: \"▾\";}#sk-container-id-1 div.sk-estimator input.sk-toggleable__control:checked~label.sk-toggleable__label {background-color: #d4ebff;}#sk-container-id-1 div.sk-label input.sk-toggleable__control:checked~label.sk-toggleable__label {background-color: #d4ebff;}#sk-container-id-1 input.sk-hidden--visually {border: 0;clip: rect(1px 1px 1px 1px);clip: rect(1px, 1px, 1px, 1px);height: 1px;margin: -1px;overflow: hidden;padding: 0;position: absolute;width: 1px;}#sk-container-id-1 div.sk-estimator {font-family: monospace;background-color: #f0f8ff;border: 1px dotted black;border-radius: 0.25em;box-sizing: border-box;margin-bottom: 0.5em;}#sk-container-id-1 div.sk-estimator:hover {background-color: #d4ebff;}#sk-container-id-1 div.sk-parallel-item::after {content: \"\";width: 100%;border-bottom: 1px solid gray;flex-grow: 1;}#sk-container-id-1 div.sk-label:hover label.sk-toggleable__label {background-color: #d4ebff;}#sk-container-id-1 div.sk-serial::before {content: \"\";position: absolute;border-left: 1px solid gray;box-sizing: border-box;top: 0;bottom: 0;left: 50%;z-index: 0;}#sk-container-id-1 div.sk-serial {display: flex;flex-direction: column;align-items: center;background-color: white;padding-right: 0.2em;padding-left: 0.2em;position: relative;}#sk-container-id-1 div.sk-item {position: relative;z-index: 1;}#sk-container-id-1 div.sk-parallel {display: flex;align-items: stretch;justify-content: center;background-color: white;position: relative;}#sk-container-id-1 div.sk-item::before, #sk-container-id-1 div.sk-parallel-item::before {content: \"\";position: absolute;border-left: 1px solid gray;box-sizing: border-box;top: 0;bottom: 0;left: 50%;z-index: -1;}#sk-container-id-1 div.sk-parallel-item {display: flex;flex-direction: column;z-index: 1;position: relative;background-color: white;}#sk-container-id-1 div.sk-parallel-item:first-child::after {align-self: flex-end;width: 50%;}#sk-container-id-1 div.sk-parallel-item:last-child::after {align-self: flex-start;width: 50%;}#sk-container-id-1 div.sk-parallel-item:only-child::after {width: 0;}#sk-container-id-1 div.sk-dashed-wrapped {border: 1px dashed gray;margin: 0 0.4em 0.5em 0.4em;box-sizing: border-box;padding-bottom: 0.4em;background-color: white;}#sk-container-id-1 div.sk-label label {font-family: monospace;font-weight: bold;display: inline-block;line-height: 1.2em;}#sk-container-id-1 div.sk-label-container {text-align: center;}#sk-container-id-1 div.sk-container {/* jupyter's `normalize.less` sets `[hidden] { display: none; }` but bootstrap.min.css set `[hidden] { display: none !important; }` so we also need the `!important` here to be able to override the default hidden behavior on the sphinx rendered scikit-learn.org. See: https://github.com/scikit-learn/scikit-learn/issues/21755 */display: inline-block !important;position: relative;}#sk-container-id-1 div.sk-text-repr-fallback {display: none;}</style><div id=\"sk-container-id-1\" class=\"sk-top-container\"><div class=\"sk-text-repr-fallback\"><pre>RandomForestClassifier(random_state=42)</pre><b>In a Jupyter environment, please rerun this cell to show the HTML representation or trust the notebook. <br />On GitHub, the HTML representation is unable to render, please try loading this page with nbviewer.org.</b></div><div class=\"sk-container\" hidden><div class=\"sk-item\"><div class=\"sk-estimator sk-toggleable\"><input class=\"sk-toggleable__control sk-hidden--visually\" id=\"sk-estimator-id-1\" type=\"checkbox\" checked><label for=\"sk-estimator-id-1\" class=\"sk-toggleable__label sk-toggleable__label-arrow\">RandomForestClassifier</label><div class=\"sk-toggleable__content\"><pre>RandomForestClassifier(random_state=42)</pre></div></div></div></div></div>"
      ],
      "text/plain": [
       "RandomForestClassifier(random_state=42)"
      ]
     },
     "execution_count": 7,
     "metadata": {},
     "output_type": "execute_result"
    }
   ],
   "source": [
    "# Create a Random Forest Classifier model\n",
    "clf = RandomForestClassifier(random_state=42)\n",
    "#Train (fit) the model on the training data\n",
    "clf.fit(X_train, y_train)\n"
   ]
  },
  {
   "cell_type": "markdown",
   "id": "eafac7f1",
   "metadata": {},
   "source": [
    "###### \" Make predictions\""
   ]
  },
  {
   "cell_type": "code",
   "execution_count": 8,
   "id": "8cb366c8",
   "metadata": {},
   "outputs": [],
   "source": [
    "#Use the trained model to make predictions on the testing data\n",
    "y_pred = clf.predict(X_test)"
   ]
  },
  {
   "cell_type": "markdown",
   "id": "c0fb216f",
   "metadata": {},
   "source": [
    "###### \"Calculate accuracy\""
   ]
  },
  {
   "cell_type": "code",
   "execution_count": 9,
   "id": "7e054d95",
   "metadata": {},
   "outputs": [
    {
     "name": "stdout",
     "output_type": "stream",
     "text": [
      "Accuracy: 0.82\n"
     ]
    }
   ],
   "source": [
    "# Evaluate the model's accuracy by comparing predicted and actual outcomes\n",
    "accuracy = accuracy_score(y_test, y_pred)\n",
    "print(f\"Accuracy: {accuracy:.2f}\")"
   ]
  },
  {
   "cell_type": "markdown",
   "id": "da7c39f4",
   "metadata": {},
   "source": [
    "###### \"Generate a classification report\""
   ]
  },
  {
   "cell_type": "code",
   "execution_count": 10,
   "id": "07a0c706",
   "metadata": {},
   "outputs": [
    {
     "name": "stdout",
     "output_type": "stream",
     "text": [
      "Classification Report:\n",
      "              precision    recall  f1-score   support\n",
      "\n",
      "           0       0.83      0.87      0.85       105\n",
      "           1       0.80      0.76      0.78        74\n",
      "\n",
      "    accuracy                           0.82       179\n",
      "   macro avg       0.82      0.81      0.81       179\n",
      "weighted avg       0.82      0.82      0.82       179\n",
      "\n"
     ]
    }
   ],
   "source": [
    "# Generate a detailed classification report including precision, recall, F1-score, and more\n",
    "classification_rep = classification_report(y_test, y_pred)\n",
    "print(\"Classification Report:\")\n",
    "print(classification_rep)"
   ]
  },
  {
   "cell_type": "markdown",
   "id": "36458633",
   "metadata": {},
   "source": [
    "###### \" Get feature importances from the trained model\""
   ]
  },
  {
   "cell_type": "code",
   "execution_count": 11,
   "id": "94bc11ec",
   "metadata": {},
   "outputs": [],
   "source": [
    "#Extract feature importances from the Random Forest model\n",
    "feature_importances = clf.feature_importances_"
   ]
  },
  {
   "cell_type": "markdown",
   "id": "806bb605",
   "metadata": {},
   "source": [
    "###### \" Create a DataFrame to associate feature names with their importances\""
   ]
  },
  {
   "cell_type": "code",
   "execution_count": 12,
   "id": "cf4bc525",
   "metadata": {},
   "outputs": [],
   "source": [
    "#Create a DataFrame for better visualization of feature importances\n",
    "feature_importance_df = pd.DataFrame({'Feature': X.columns, 'Importance': feature_importances})"
   ]
  },
  {
   "cell_type": "markdown",
   "id": "683fc12a",
   "metadata": {},
   "source": [
    "###### \"Sort the features by importance in descending order\""
   ]
  },
  {
   "cell_type": "code",
   "execution_count": 13,
   "id": "86341a0c",
   "metadata": {},
   "outputs": [],
   "source": [
    "# Sort the features by their importance scores in descending order\n",
    "feature_importance_df = feature_importance_df.sort_values(by='Importance', ascending=False)"
   ]
  },
  {
   "cell_type": "markdown",
   "id": "026ce841",
   "metadata": {},
   "source": [
    "###### \"Plot the feature importances\""
   ]
  },
  {
   "cell_type": "code",
   "execution_count": 14,
   "id": "ea57dde4",
   "metadata": {},
   "outputs": [
    {
     "data": {
      "image/png": "[encoded data removed]",
      "text/plain": [
       "<Figure size 900x500 with 1 Axes>"
      ]
     },
     "metadata": {},
     "output_type": "display_data"
    }
   ],
   "source": [
    "# Create a bar plot to visualize feature importances\n",
    "plt.figure(figsize=(9, 5))\n",
    "sns.barplot(y='Importance', x='Feature',data=feature_importance_df, edgecolor=\"0.2\", palette=\"Blues\")\n",
    "plt.title('Feature Importances',fontsize=17,weight='bold')\n",
    "plt.xlabel('Importance',fontsize=17,weight='bold')\n",
    "plt.ylabel('Feature',fontsize=17,weight='bold')\n",
    "plt.tick_params(labelsize=8)\n",
    "plt.show()"
   ]
  },
  {
   "cell_type": "markdown",
   "id": "f7ed8946",
   "metadata": {},
   "source": [
    "###### \"Display the sorted feature importances\""
   ]
  },
  {
   "cell_type": "code",
   "execution_count": 15,
   "id": "7e5b66fb",
   "metadata": {},
   "outputs": [
    {
     "name": "stdout",
     "output_type": "stream",
     "text": [
      "Feature Importances:\n",
      "        Feature  Importance\n",
      "4      sex_male    0.273630\n",
      "1          fare    0.270661\n",
      "0           age    0.251896\n",
      "6   class_Third    0.065159\n",
      "3         sibsp    0.051147\n",
      "2         parch    0.037996\n",
      "8    embarked_S    0.022715\n",
      "5  class_Second    0.016262\n",
      "7    embarked_Q    0.010535\n"
     ]
    }
   ],
   "source": [
    "#Display the sorted feature importances to understand which features are most important\n",
    "print(\"Feature Importances:\")\n",
    "print(feature_importance_df)"
   ]
  },
  {
   "cell_type": "code",
   "execution_count": null,
   "id": "4a0a7333",
   "metadata": {},
   "outputs": [],
   "source": []
  }
 ],
 "metadata": {
  "kernelspec": {
   "display_name": "Python 3 (ipykernel)",
   "language": "python",
   "name": "python3"
  },
  "language_info": {
   "codemirror_mode": {
    "name": "ipython",
    "version": 3
   },
   "file_extension": ".py",
   "mimetype": "text/x-python",
   "name": "python",
   "nbconvert_exporter": "python",
   "pygments_lexer": "ipython3",
   "version": "3.10.9"
  }
 },
 "nbformat": 4,
 "nbformat_minor": 5
}
